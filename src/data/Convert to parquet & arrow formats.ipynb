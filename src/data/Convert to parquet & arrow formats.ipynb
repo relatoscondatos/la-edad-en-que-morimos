{
 "cells": [
  {
   "cell_type": "code",
   "execution_count": 2,
   "id": "3a77c56d",
   "metadata": {},
   "outputs": [
    {
     "name": "stdout",
     "output_type": "stream",
     "text": [
      "Requirement already satisfied: pandas in /opt/anaconda3/lib/python3.11/site-packages (2.2.2)\n",
      "Requirement already satisfied: pyarrow in /opt/anaconda3/lib/python3.11/site-packages (14.0.2)\n",
      "Requirement already satisfied: numpy>=1.23.2 in /opt/anaconda3/lib/python3.11/site-packages (from pandas) (1.26.4)\n",
      "Requirement already satisfied: python-dateutil>=2.8.2 in /opt/anaconda3/lib/python3.11/site-packages (from pandas) (2.8.2)\n",
      "Requirement already satisfied: pytz>=2020.1 in /opt/anaconda3/lib/python3.11/site-packages (from pandas) (2023.3.post1)\n",
      "Requirement already satisfied: tzdata>=2022.7 in /opt/anaconda3/lib/python3.11/site-packages (from pandas) (2023.3)\n",
      "Requirement already satisfied: six>=1.5 in /opt/anaconda3/lib/python3.11/site-packages (from python-dateutil>=2.8.2->pandas) (1.16.0)\n",
      "Note: you may need to restart the kernel to use updated packages.\n"
     ]
    }
   ],
   "source": [
    "pip install pandas pyarrow"
   ]
  },
  {
   "cell_type": "code",
   "execution_count": 3,
   "id": "c5814426",
   "metadata": {},
   "outputs": [
    {
     "name": "stdout",
     "output_type": "stream",
     "text": [
      "TSV file dataDefuncionesPorEdadComunaYSexo_2014_2023.tsv has been converted to Parquet format and saved as dataDefuncionesPorEdadComunaYSexo_2014_2023.parquet\n",
      "TSV file dataDefuncionesPorEdadComunaYSexo_2014_2023.tsv has been converted to Arrow format and saved as dataDefuncionesPorEdadComunaYSexo_2014_2023.arrow\n"
     ]
    }
   ],
   "source": [
    "import pandas as pd\n",
    "import pyarrow as pa\n",
    "import pyarrow.parquet as pq\n",
    "\n",
    "# Path to the TSV file\n",
    "tsv_file_path = 'dataDefuncionesPorEdadComunaYSexo_2014_2023.tsv'\n",
    "\n",
    "# Read the TSV file into a Pandas DataFrame\n",
    "df = pd.read_csv(tsv_file_path, sep='\\t')\n",
    "\n",
    "# Convert the DataFrame to an Arrow table\n",
    "arrow_table = pa.Table.from_pandas(df)\n",
    "\n",
    "# Save the Arrow table as a Parquet file\n",
    "parquet_file_path = 'dataDefuncionesPorEdadComunaYSexo_2014_2023.parquet'\n",
    "pq.write_table(arrow_table, parquet_file_path)\n",
    "\n",
    "# Save the Arrow table as an Arrow file\n",
    "arrow_file_path = 'dataDefuncionesPorEdadComunaYSexo_2014_2023.arrow'\n",
    "with pa.OSFile(arrow_file_path, 'wb') as sink:\n",
    "    with pa.ipc.new_file(sink, arrow_table.schema) as writer:\n",
    "        writer.write_table(arrow_table)\n",
    "\n",
    "print(f\"TSV file {tsv_file_path} has been converted to Parquet format and saved as {parquet_file_path}\")\n",
    "print(f\"TSV file {tsv_file_path} has been converted to Arrow format and saved as {arrow_file_path}\")\n"
   ]
  },
  {
   "cell_type": "code",
   "execution_count": 4,
   "id": "db2d4f02",
   "metadata": {},
   "outputs": [
    {
     "data": {
      "text/plain": [
       "pyarrow.Table\n",
       "comuna: string\n",
       "sexo: string\n",
       "edad: int64\n",
       "defunciones: int64\n",
       "----\n",
       "comuna: [[\"Aisén\",\"Aisén\",\"Aisén\",\"Aisén\",\"Aisén\",...,\"Chile\",\"Chile\",\"Chile\",\"Chile\",\"Chile\"]]\n",
       "sexo: [[\"Hombre\",\"Hombre\",\"Hombre\",\"Hombre\",\"Hombre\",...,\"Hombre\",\"Mujer\",\"Hombre\",\"Mujer\",\"Mujer\"]]\n",
       "edad: [[0,1,5,13,14,...,52,63,43,74,109]]\n",
       "defunciones: [[6,1,1,2,1,...,5684,6461,2872,11260,42]]"
      ]
     },
     "execution_count": 4,
     "metadata": {},
     "output_type": "execute_result"
    }
   ],
   "source": [
    "arrow_table"
   ]
  },
  {
   "cell_type": "code",
   "execution_count": 6,
   "id": "34a1ab84",
   "metadata": {},
   "outputs": [],
   "source": [
    "import pyarrow.compute as pc\n"
   ]
  },
  {
   "cell_type": "code",
   "execution_count": 7,
   "id": "dfafa3c7",
   "metadata": {},
   "outputs": [
    {
     "name": "stdout",
     "output_type": "stream",
     "text": [
      "pyarrow.Table\n",
      "comuna: string\n",
      "sexo: string\n",
      "edad: int64\n",
      "defunciones: int64\n",
      "----\n",
      "comuna: [[\"Aisén\",\"Aisén\",\"Aisén\",\"Aisén\",\"Aisén\",...,\"Panquehue\",\"Pedro Aguirre Cerda\",\"Pedro Aguirre Cerda\",\"Paine\",\"Pedro Aguirre Cerda\"],[\"Penco\",\"Penco\",\"Penco\",\"Penco\",\"Penco\",...,\"Chile\",\"Chile\",\"Chile\",\"Chile\",\"Chile\"]]\n",
      "sexo: [[\"Hombre\",\"Hombre\",\"Hombre\",\"Hombre\",\"Hombre\",...,\"Hombre\",\"Hombre\",\"Mujer\",\"Hombre\",\"Mujer\"],[\"Hombre\",\"Hombre\",\"Hombre\",\"Hombre\",\"Hombre\",...,\"Mujer\",\"Hombre\",\"Mujer\",\"Hombre\",\"Hombre\"]]\n",
      "edad: [[0,1,5,13,14,...,18,22,14,4,1],[0,4,11,12,14,...,28,14,23,27,11]]\n",
      "defunciones: [[6,1,1,2,1,...,1,9,1,1,2],[15,1,1,1,1,...,595,287,491,1732,178]]\n"
     ]
    }
   ],
   "source": [
    "filtered_table = arrow_table.filter(pc.field('edad') < 30)\n",
    "print(filtered_table)"
   ]
  },
  {
   "cell_type": "code",
   "execution_count": null,
   "id": "0599f341",
   "metadata": {},
   "outputs": [],
   "source": []
  }
 ],
 "metadata": {
  "kernelspec": {
   "display_name": "Python 3 (ipykernel)",
   "language": "python",
   "name": "python3"
  },
  "language_info": {
   "codemirror_mode": {
    "name": "ipython",
    "version": 3
   },
   "file_extension": ".py",
   "mimetype": "text/x-python",
   "name": "python",
   "nbconvert_exporter": "python",
   "pygments_lexer": "ipython3",
   "version": "3.11.7"
  }
 },
 "nbformat": 4,
 "nbformat_minor": 5
}
